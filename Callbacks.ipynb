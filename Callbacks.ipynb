{
  "nbformat": 4,
  "nbformat_minor": 0,
  "metadata": {
    "colab": {
      "name": "Callbacks.ipynb",
      "version": "0.3.2",
      "provenance": [],
      "collapsed_sections": [],
      "include_colab_link": true
    },
    "kernelspec": {
      "name": "python3",
      "display_name": "Python 3"
    }
  },
  "cells": [
    {
      "cell_type": "markdown",
      "metadata": {
        "id": "view-in-github",
        "colab_type": "text"
      },
      "source": [
        "<a href=\"https://colab.research.google.com/github/pynchmeister/practiceKeras/blob/master/Callbacks.ipynb\" target=\"_parent\"><img src=\"https://colab.research.google.com/assets/colab-badge.svg\" alt=\"Open In Colab\"/></a>"
      ]
    },
    {
      "cell_type": "markdown",
      "metadata": {
        "id": "MTxY9GDoicNC",
        "colab_type": "text"
      },
      "source": [
        "# Usage of callbacks\n",
        "A callback is a set of functions to be applied at given stages of the training procedure. You can use callbacks to get a view on internal states and statistics of the model during training. You can pass a list of callbacks (as the keyword argument callbacks) to the .fit() method of the Sequential or Model classes. The relevant methods of the callbacks will then be called at each stage of the training.\n",
        "\n",
        "# Base Callbacks\n",
        "There are a couple of callbacks that you are already using without knowing it: \n",
        "\n",
        "* BaseLogger: Callback that accumulates epoch averagers of metrics.\n",
        "* ProgbarLogger: Callback that prints metrics to stdout.\n",
        "* History: Callback that records events into a History object.\n",
        "\n",
        "# Even More Callbacks\n",
        "I'll show off a set of callbacks available to you to use with any model, and then we will discuss custom callbacks."
      ]
    },
    {
      "cell_type": "code",
      "metadata": {
        "id": "l2gvqmh3kpQe",
        "colab_type": "code",
        "colab": {
          "base_uri": "https://localhost:8080/",
          "height": 34
        },
        "outputId": "d0a18bbe-15ec-4fd3-fe18-60f4f783fc09"
      },
      "source": [
        "from keras.callbacks import ModelCheckpoint\n",
        "\n",
        "mc = ModelCheckpoint(\n",
        "  filepath='tmp/weights.{epoch:02d}-{val_loss:.2f}.hdf5',\n",
        "  monitor='val_loss',\n",
        "  verbose=0,\n",
        "  save_best_only=True,\n",
        "  save_weights_only=True,\n",
        "  mode='max',\n",
        "  period=5)"
      ],
      "execution_count": 1,
      "outputs": [
        {
          "output_type": "stream",
          "text": [
            "Using TensorFlow backend.\n"
          ],
          "name": "stderr"
        }
      ]
    },
    {
      "cell_type": "code",
      "metadata": {
        "id": "SdZtIReMgif6",
        "colab_type": "code",
        "colab": {}
      },
      "source": [
        "from keras.callbacks import EarlyStopping\n",
        "\n",
        "es = EarlyStopping(\n",
        "    monitor='val_loss',\n",
        "    min_delta=0.01,\n",
        "    patience=5,\n",
        "    verbose=1,\n",
        "    mode='max')"
      ],
      "execution_count": 0,
      "outputs": []
    },
    {
      "cell_type": "code",
      "metadata": {
        "id": "vwAVLWBWmLbD",
        "colab_type": "code",
        "colab": {}
      },
      "source": [
        "from keras.callbacks import LearningRateScheduler\n",
        "\n",
        "lrs = LearningRateScheduler(lambda epoch: 1./epoch)"
      ],
      "execution_count": 0,
      "outputs": []
    },
    {
      "cell_type": "code",
      "metadata": {
        "id": "2twUSbE5mUSf",
        "colab_type": "code",
        "colab": {}
      },
      "source": [
        "from keras.callbacks import ReduceLROnPlateau\n",
        "\n",
        "rlrop = ReduceLROnPlateau(\n",
        "      monitor='val_loss',\n",
        "      factor=0.1,\n",
        "      pateince=10,\n",
        "      verbose=0,\n",
        "      mode='auto',\n",
        "      min_delta=0.0001,\n",
        "      cooldown=4,\n",
        "      min_lr=10e-7)"
      ],
      "execution_count": 0,
      "outputs": []
    },
    {
      "cell_type": "code",
      "metadata": {
        "id": "Tj_lsmJ5m5xf",
        "colab_type": "code",
        "colab": {}
      },
      "source": [
        "from keras.callbacks import CSVLogger\n",
        "\n",
        "csv1 = CSVLogger(\n",
        "      filename='tmp/training.log',\n",
        "      separator=',',\n",
        "      append=False)"
      ],
      "execution_count": 0,
      "outputs": []
    },
    {
      "cell_type": "code",
      "metadata": {
        "id": "r-uvwEwhnstZ",
        "colab_type": "code",
        "colab": {
          "base_uri": "https://localhost:8080/",
          "height": 34
        },
        "outputId": "5f9b8a0a-086d-48da-8f85-050a6bf85f3c"
      },
      "source": [
        "from keras.callbacks import TensorBoard\n",
        "\n",
        "TensorBoard(\n",
        "    log_dir='./logs',\n",
        "    histogram_freq=0,\n",
        "    write_graph=True,\n",
        "    write_images=False,\n",
        "    embeddings_freq=100,\n",
        "    embeddings_layer_names=None, # this list of embedding layers...\n",
        "    embeddings_metadata=None)    # with this metadata associated with them."
      ],
      "execution_count": 13,
      "outputs": [
        {
          "output_type": "execute_result",
          "data": {
            "text/plain": [
              "<keras.callbacks.TensorBoard at 0x7f9e3be724e0>"
            ]
          },
          "metadata": {
            "tags": []
          },
          "execution_count": 13
        }
      ]
    },
    {
      "cell_type": "markdown",
      "metadata": {
        "id": "M_9FC4BaoWaJ",
        "colab_type": "text"
      },
      "source": [
        "# Lambda Callback\n",
        "If that was not enough for you, here is the big one.\n",
        "\n",
        "This callback is constructed with anonymous functions that will be called at the appropriate time. Notice that the callbacks expects positional arguments, as: - on_epoch_begin and on_epoch_end expect two positional arguments: epoch, logs - on_batch_begin and on_batch_end expect two positional arguments: batch, logs - on_train_begin and on_train_end expect one positional argument: logs\n",
        "\n",
        "## Arguments\n",
        "* on_epoch_begin: called at the beginning of every epoch.\n",
        "* on epoch_end: called at the end of every epoch.\n",
        "* on_batch_begin: called at the beginning of every batch.\n",
        "* on_batch_end: called at the end of every batch.\n",
        "* on_train_begin: called at the beginning of the model training.\n",
        "* on_train_end: called at the end of model training\n"
      ]
    },
    {
      "cell_type": "code",
      "metadata": {
        "id": "dvwo6bAEpgEu",
        "colab_type": "code",
        "colab": {}
      },
      "source": [
        "from keras.callbacks import LambdaCallback\n",
        "\n",
        "# Print the batch number at the beginning of every batch.\n",
        "def print_batch(batch, logs):\n",
        "    print(batch)\n",
        "batch_print_callback = LambdaCallback(\n",
        "      on_batch_begin=print_batch)\n",
        "\n",
        "# Terminate some processes after having finished model training.\n",
        "processes = []\n",
        "cleanup_callback = LambdaCallback(\n",
        "    on_train_end=lambda logs: [\n",
        "    p.terminate() for p in processes if p.is_alive()])"
      ],
      "execution_count": 0,
      "outputs": []
    },
    {
      "cell_type": "markdown",
      "metadata": {
        "id": "lCtcXyqyrknw",
        "colab_type": "text"
      },
      "source": [
        "# Super Custom Callbacks\n",
        "You can create a custom callback by extending the base class keras.callbacks.Callback. A callback has access to its associated model through the class property self.model.\n",
        "\n",
        "Abstract base class used to build new callbacks.\n",
        "\n",
        "### Properties\n",
        "* params: dict. Training parameters (eg. verbosity, batch size, number of epochs...).\n",
        "* model: instance of keras.models.Model. Reference of the model being trained.\n",
        "\n",
        "The logs directory that callback methods take as argument will contain keys for quantities relevant to the current batch or epoch.\n",
        "\n",
        "Currently, the .fit() method of the Sequential model class will include the following quantities in the logs that it passes to its callbacks:\n",
        "\n",
        "* on_epoch_end: logs include acc and loss, and optionally include val_loss (if validation is enabled in fit), and val_acc (if validation and accuracy monitoring are enabled).\n",
        "* on_batch_begin: logs include size, the number of samples in the current batch.\n",
        "* on_batch_end: logs include loss, and optionally acc (if accuracy monitoring is enabled).\n",
        "\n",
        "Here's a simple example saving a list of losses over each batch during training:"
      ]
    },
    {
      "cell_type": "code",
      "metadata": {
        "id": "Bsd5kqpas8qf",
        "colab_type": "code",
        "colab": {}
      },
      "source": [
        "import keras\n",
        "\n",
        "class LossHistory(keras.callbacks.Callback):\n",
        "  def on_train_begin(self, logs={}):\n",
        "    self.losses = []\n",
        "    \n",
        "  def on_batch_end(self, batch, logs={}):\n",
        "    self.losses.append(logs.get('loss'))"
      ],
      "execution_count": 0,
      "outputs": []
    },
    {
      "cell_type": "code",
      "metadata": {
        "id": "Pu2jUj9FoUkL",
        "colab_type": "code",
        "colab": {}
      },
      "source": [
        ""
      ],
      "execution_count": 0,
      "outputs": []
    }
  ]
}