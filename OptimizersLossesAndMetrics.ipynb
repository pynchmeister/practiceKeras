{
  "nbformat": 4,
  "nbformat_minor": 0,
  "metadata": {
    "colab": {
      "name": "OptimizersLossesAndMetrics.ipynb",
      "version": "0.3.2",
      "provenance": [],
      "include_colab_link": true
    },
    "kernelspec": {
      "name": "python3",
      "display_name": "Python 3"
    }
  },
  "cells": [
    {
      "cell_type": "markdown",
      "metadata": {
        "id": "view-in-github",
        "colab_type": "text"
      },
      "source": [
        "<a href=\"https://colab.research.google.com/github/pynchmeister/practiceKeras/blob/master/OptimizersLossesAndMetrics.ipynb\" target=\"_parent\"><img src=\"https://colab.research.google.com/assets/colab-badge.svg\" alt=\"Open In Colab\"/></a>"
      ]
    },
    {
      "cell_type": "markdown",
      "metadata": {
        "id": "APcuK3qquIp9",
        "colab_type": "text"
      },
      "source": [
        "# Usage of optimizers\n",
        "An optimizer is one of the two arguments required for compiling a Keras model:"
      ]
    },
    {
      "cell_type": "code",
      "metadata": {
        "id": "cxKfA96PtmCY",
        "colab_type": "code",
        "colab": {
          "base_uri": "https://localhost:8080/",
          "height": 125
        },
        "outputId": "623d0f2c-0691-40ca-d570-e89b7b2be645"
      },
      "source": [
        "from keras import optimizers \n",
        "from keras.models import Sequential\n",
        "from keras.layers import Dense, Activation\n",
        "\n",
        "model = Sequential()\n",
        "model.add(Dense(64, input_shape=(10,)))\n",
        "model.add(Activation('tanh'))\n",
        "model.add(Activation('softmax'))\n",
        "\n",
        "sgd= optimizers.SGD(lr=0.01, decay=1e-6, momentum=0.9, nesterov=True)\n",
        "model.compile(loss='mean_squared_error', optimizer=sgd)"
      ],
      "execution_count": 1,
      "outputs": [
        {
          "output_type": "stream",
          "text": [
            "Using TensorFlow backend.\n"
          ],
          "name": "stderr"
        },
        {
          "output_type": "stream",
          "text": [
            "WARNING:tensorflow:From /usr/local/lib/python3.6/dist-packages/tensorflow/python/framework/op_def_library.py:263: colocate_with (from tensorflow.python.framework.ops) is deprecated and will be removed in a future version.\n",
            "Instructions for updating:\n",
            "Colocations handled automatically by placer.\n"
          ],
          "name": "stdout"
        }
      ]
    },
    {
      "cell_type": "markdown",
      "metadata": {
        "id": "1r5Igc8BvBzk",
        "colab_type": "text"
      },
      "source": [
        "You can either instantiate an optimizer before passing it to model.compile() , as in the above example, or you can call it by its name. In the latter case, the default parameters for the optimizer will be used."
      ]
    },
    {
      "cell_type": "code",
      "metadata": {
        "id": "Jq5Us7qQvRmm",
        "colab_type": "code",
        "colab": {}
      },
      "source": [
        "# pass optimizer by name: default parameters will be used\n",
        "model.compile(loss='mean_squared_error', optimizer='sgd')"
      ],
      "execution_count": 0,
      "outputs": []
    },
    {
      "cell_type": "markdown",
      "metadata": {
        "id": "vCwsQomkvfh9",
        "colab_type": "text"
      },
      "source": [
        "# Parameters common to all Keras optimizers\n",
        "The parameters clipnorm and clipvalue can be used with all optimizers to control gradient clipping:"
      ]
    },
    {
      "cell_type": "code",
      "metadata": {
        "id": "HWEA28tBvqs9",
        "colab_type": "code",
        "colab": {}
      },
      "source": [
        "# All parameter gradients will be clipped to \n",
        "# a maximum norm of 1.\n",
        "sgd = optimizers.SGD(lr=0.01, clipnorm=1.)"
      ],
      "execution_count": 0,
      "outputs": []
    },
    {
      "cell_type": "code",
      "metadata": {
        "id": "sAAKhDuKwU_1",
        "colab_type": "code",
        "colab": {}
      },
      "source": [
        "# All parameter gradients will be clipped to \n",
        "# a maximum norm of 1.\n",
        "sgd = optimizers.SGD(lr=0.01, clipnorm=1.)"
      ],
      "execution_count": 0,
      "outputs": []
    },
    {
      "cell_type": "code",
      "metadata": {
        "id": "G8EA2kxuwoXq",
        "colab_type": "code",
        "colab": {}
      },
      "source": [
        "import tensorflow as tf\n",
        "\n",
        "# Use a tensorflow optimizer \n",
        "pgd = optimizers.TFOptimizer(tf.train.ProximalGradientDescentOptimizer(0.01))"
      ],
      "execution_count": 0,
      "outputs": []
    },
    {
      "cell_type": "markdown",
      "metadata": {
        "id": "wmjIpNenwyAK",
        "colab_type": "text"
      },
      "source": [
        "# Usage of loss functions\n",
        "A loss function (or objective function, or optimization score function) is the other of the two parameters required to compile a model: "
      ]
    },
    {
      "cell_type": "code",
      "metadata": {
        "id": "ywVQQihUw8tr",
        "colab_type": "code",
        "colab": {}
      },
      "source": [
        "model.compile(loss='mean_squared_error', optimizer='sgd')\n"
      ],
      "execution_count": 0,
      "outputs": []
    },
    {
      "cell_type": "code",
      "metadata": {
        "id": "qwkw-X9qxCfX",
        "colab_type": "code",
        "colab": {}
      },
      "source": [
        "from keras import losses \n",
        "model.compile(loss=losses.mean_squared_error, optimizer='sgd')"
      ],
      "execution_count": 0,
      "outputs": []
    },
    {
      "cell_type": "markdown",
      "metadata": {
        "id": "kFHqDHKaxP_C",
        "colab_type": "text"
      },
      "source": [
        "You can either pass the name of an existing loss function, or pass a TensorFlow/Theano symbolic function that returns a scalar for each data-point and takes the following two arguments:\n",
        "\n",
        "* y_true: True labels. TensorFlow/Theano tensor\n",
        "* y_pred: Predictions. TensorFlow/Theano tensor of the same shape as y_true.\n",
        "\n",
        "The actual optimized objective is the mean of the output array across all datapoints."
      ]
    },
    {
      "cell_type": "code",
      "metadata": {
        "id": "K4p57PQ1x8xz",
        "colab_type": "code",
        "colab": {}
      },
      "source": [
        "model.compile(loss=tf.nn.log_poisson_loss, optimizer='sgd')"
      ],
      "execution_count": 0,
      "outputs": []
    },
    {
      "cell_type": "markdown",
      "metadata": {
        "id": "d2hYyXD-yayg",
        "colab_type": "text"
      },
      "source": [
        "# Usage of metrics\n",
        "A metric is a function thay is used to judge the performance of your model. Metric functions are to be supplied in the metrics parameter when a model is compiled."
      ]
    },
    {
      "cell_type": "code",
      "metadata": {
        "id": "rttSW_O8yoR4",
        "colab_type": "code",
        "colab": {}
      },
      "source": [
        "model.compile(loss='mean_squared_error',\n",
        "             optimizer='sgd',\n",
        "             metrics=['mae', 'acc'])"
      ],
      "execution_count": 0,
      "outputs": []
    },
    {
      "cell_type": "code",
      "metadata": {
        "id": "63zHJe3azNpI",
        "colab_type": "code",
        "colab": {}
      },
      "source": [
        "from keras import metrics \n",
        "\n",
        "model.compile(loss='mean_squared_error',\n",
        "             optimizer='sgd',\n",
        "             metrics=[metrics.mae, metrics.categorical_accuracy])"
      ],
      "execution_count": 0,
      "outputs": []
    },
    {
      "cell_type": "markdown",
      "metadata": {
        "id": "m3u6N182z3F7",
        "colab_type": "text"
      },
      "source": [
        "A metric function is similar to an loss function, except that the results from evaluating a metric are not used when training the model. All loss functions are metrics.\n",
        "\n",
        "You can either pass the name of an existing metric, or pass a Theano/TensorFlow symbolic function (see Custom metrics).\n",
        "\n",
        "# Arguments\n",
        "* y_true: True labels. Theano/TensorFlow tensor.\n",
        "* y_pred: Predictions. Theano/TensorFlow tensor of the same shape as y_true.\n",
        "\n",
        "# Returns\n",
        "Single tensor value representing the mean of the output array across all datapoints."
      ]
    },
    {
      "cell_type": "code",
      "metadata": {
        "id": "8FVTzbZl0kaf",
        "colab_type": "code",
        "colab": {}
      },
      "source": [
        "import keras.backend as K\n",
        "\n",
        "def mean_pred(y_true, y_pred):\n",
        "    return K.mean(y_pred)\n",
        "  \n",
        "model.compile(optimizer='rmsprop',\n",
        "               loss='binary_crossentropy',\n",
        "               metrics=['accuracy', mean_pred])"
      ],
      "execution_count": 0,
      "outputs": []
    }
  ]
}